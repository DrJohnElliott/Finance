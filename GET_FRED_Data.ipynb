{
 "cells": [
  {
   "cell_type": "code",
   "execution_count": 36,
   "id": "c70ffdb4-c8ab-4436-b326-fec2f9fb8977",
   "metadata": {},
   "outputs": [],
   "source": [
    "import pandas as pd\n",
    "import numpy as np\n",
    "from fredapi import Fred\n",
    "import matplotlib.pyplot as plt\n",
    "import seaborn as sns\n",
    "\n",
    "'''\n",
    "from contextlib import closing\n",
    "with closing(dbus_init()) as conn:\n",
    "    collection = secretstorage.get_default_collection(conn)\n",
    "    items = collection.search_items({'application': 'myapp'})\n",
    "\n",
    "    '''\n",
    "# ADD key here \n",
    "\n",
    "\n",
    "\n",
    "import secretstorage\n",
    "bus = secretstorage.dbus_init()\n",
    "collection = secretstorage.get_default_collection(bus)  ## login keyring\n",
    "search={u'application': u'FRED'}\n",
    "items = collection.search_items(search)\n",
    "for item in items:\n",
    "    key =str(item.get_secret(), encoding='utf-8')\n",
    "fred = Fred(api_key=key)"
   ]
  },
  {
   "cell_type": "code",
   "execution_count": 37,
   "id": "ea8cffd9-1bed-42d8-a496-6ca55a0c5896",
   "metadata": {
    "tags": []
   },
   "outputs": [
    {
     "data": {
      "text/plain": [
       "'c13a23fd67ff905d1195a8e16456fb38'"
      ]
     },
     "execution_count": 37,
     "metadata": {},
     "output_type": "execute_result"
    }
   ],
   "source": []
  },
  {
   "cell_type": "code",
   "execution_count": 38,
   "id": "9ca86fab-3aff-465e-b35a-6650428ee305",
   "metadata": {
    "tags": []
   },
   "outputs": [],
   "source": [
    "import secretstorage\n",
    "connection = secretstorage.dbus_init()\n",
    "collection = secretstorage.get_default_collection(connection)\n",
    "attributes = {'application': 'FRED', 'api_key':\n",
    "    'c13a23fd67ff905d1195a8e16456fb38'}\n",
    "item = collection.create_item('FRED API KEY', attributes,\n",
    "    'c13a23fd67ff905d1195a8e16456fb38')\n"
   ]
  },
  {
   "cell_type": "code",
   "execution_count": 39,
   "id": "76a9f901-6d6a-4976-b636-189d94825805",
   "metadata": {
    "tags": []
   },
   "outputs": [],
   "source": [
    "def _get_gnome_keyring_password(browser_keyring_name, logger):\n",
    "    if not SECRETSTORAGE_AVAILABLE:\n",
    "        logger.error('secretstorage not available {}'.format(SECRETSTORAGE_UNAVAILABLE_REASON))\n",
    "        return b''\n",
    "    # the Gnome keyring does not seem to organise keys in the same way as KWallet,\n",
    "    # using `dbus-monitor` during startup, it can be observed that chromium lists all keys\n",
    "    # and presumably searches for its key in the list. It appears that we must do the same.\n",
    "    # https://github.com/jaraco/keyring/issues/556\n",
    "    with contextlib.closing(secretstorage.dbus_init()) as con:\n",
    "        col = secretstorage.get_default_collection(con)\n",
    "        for item in col.get_all_items():\n",
    "            if item.get_label() == '{} Safe Storage'.format(browser_keyring_name):\n",
    "                return item.get_secret()\n",
    "        else:\n",
    "            logger.error('failed to read from keyring')\n",
    "            return b''"
   ]
  },
  {
   "cell_type": "code",
   "execution_count": 40,
   "id": "335764d9-7a9b-4a68-a334-c349fb6d02ad",
   "metadata": {},
   "outputs": [],
   "source": [
    " ## Importing series\n",
    "## reformatting to a pandas df\n",
    "## Converting to a monthly average\n",
    "\n",
    "start = '1962-01-01'\n",
    "end = '2023-10-12'\n",
    "yield_curve = pd.DataFrame(fred.get_series(\n",
    "    'T10Y2Y',\n",
    "    observation_start=start,\n",
    "    observation_end=end))\n",
    "\n",
    "fed_funds_rate = pd.DataFrame(fred.get_series(\n",
    "    'FEDFUNDS',\n",
    "    observation_start=start,\n",
    "    observation_end=end))\n",
    "\n",
    "unemployment_rate = pd.DataFrame(fred.get_series(\n",
    "    'UNRATE',\n",
    "    observation_start=start,\n",
    "    observation_end=end))\n",
    "\n",
    "sp500 = pd.DataFrame(fred.get_series(\n",
    "    'SP500',\n",
    "    observation_start=start,\n",
    "    observation_end=end))\n",
    "# (\"DGS2\", \"DGS10\", \"DGS20\", \"DGS30\")\n",
    "Rates_2Y = pd.DataFrame(fred.get_series(\n",
    "    \"DGS2\",\n",
    "    observation_start=start,\n",
    "    observation_end=end))\n",
    "\n",
    "Rates_10Y= pd.DataFrame(fred.get_series(\n",
    "    \"DGS10\",\n",
    "    observation_start=start,\n",
    "    observation_end=end))\n",
    "\n",
    "Rates_20Y = pd.DataFrame(fred.get_series(\n",
    "    \"DGS20\",\n",
    "    observation_start=start,\n",
    "    observation_end=end))\n",
    "\n",
    "Rates_30Y = pd.DataFrame(fred.get_series(\n",
    "    \"DGS30\",\n",
    "    observation_start=start,\n",
    "    observation_end=end))"
   ]
  },
  {
   "cell_type": "code",
   "execution_count": 41,
   "id": "d0d13709-ab94-4977-b468-baff102c9832",
   "metadata": {},
   "outputs": [],
   "source": [
    "Rates_2Y.rename(columns = {0:'DGS2'}, inplace = True)\n",
    "Rates_10Y.rename(columns = {0:'DGS10'}, inplace = True)\n",
    "Rates_20Y.rename(columns = {0:'DGS20'}, inplace = True)\n",
    "Rates_30Y.rename(columns = {0:'DGS30'}, inplace = True)"
   ]
  },
  {
   "cell_type": "code",
   "execution_count": 42,
   "id": "47d0cabf-b761-4871-bfa6-ab8949e1114b",
   "metadata": {},
   "outputs": [],
   "source": [
    "import copy"
   ]
  },
  {
   "cell_type": "code",
   "execution_count": 43,
   "id": "4dd214cf-2188-4f6c-8b89-bba85c512cd6",
   "metadata": {},
   "outputs": [],
   "source": [
    "R_2Y = copy.deepcopy(Rates_2Y)\n",
    "R_10Y = copy.deepcopy(Rates_10Y)\n",
    "R_20Y = copy.deepcopy(Rates_20Y)\n",
    "R_30Y = copy.deepcopy(Rates_30Y)"
   ]
  },
  {
   "cell_type": "code",
   "execution_count": 44,
   "id": "8191e8f2-a430-477c-810d-e06ff1111981",
   "metadata": {},
   "outputs": [
    {
     "data": {
      "text/plain": [
       "((12358, 1), (11839, 1), 0)"
      ]
     },
     "execution_count": 44,
     "metadata": {},
     "output_type": "execute_result"
    }
   ],
   "source": [
    "R_2Y.shape, R_2Y.dropna(axis=0).shape, R_2Y.dropna(axis=0).isna().sum().sum()\n"
   ]
  },
  {
   "cell_type": "code",
   "execution_count": null,
   "id": "153a1c66-0be2-45ac-b375-e940407782df",
   "metadata": {},
   "outputs": [],
   "source": [
    "R_2Y = R_2Y.dropna(axis=0)\n",
    "R_10Y = R_10Y.dropna(axis=0)\n",
    "R_20Y = R_20Y.dropna(axis=0)\n",
    "R_30Y = R_30Y.dropna(axis=0)"
   ]
  },
  {
   "cell_type": "code",
   "execution_count": null,
   "id": "d8253491-d930-4cd9-958f-0c08e4ac5728",
   "metadata": {},
   "outputs": [],
   "source": [
    "R_2Y.shape, R_2Y.dropna(axis=0).shape, R_2Y.dropna(axis=0).isna().sum().sum()\n"
   ]
  },
  {
   "cell_type": "code",
   "execution_count": null,
   "id": "51178b3c-d9e9-4f69-ad61-1443d6a6e6dc",
   "metadata": {},
   "outputs": [],
   "source": [
    "R_2Y"
   ]
  },
  {
   "cell_type": "code",
   "execution_count": null,
   "id": "c8d0d1f2-0ded-44aa-9a69-113b59d60017",
   "metadata": {},
   "outputs": [],
   "source": [
    "Rates_2Y = Rates_2Y.dropna(axis=0)\n",
    "Rates_2Y.shape"
   ]
  },
  {
   "cell_type": "code",
   "execution_count": null,
   "id": "1a4fb9a3-06d2-4c06-a8d1-2532f2a84a09",
   "metadata": {},
   "outputs": [],
   "source": [
    "R_2Y"
   ]
  },
  {
   "cell_type": "code",
   "execution_count": null,
   "id": "ef977095-2e79-42a0-a068-2e35e81bc4c5",
   "metadata": {},
   "outputs": [],
   "source": [
    "FRED_Rates = pd.concat([R_2Y, R_10Y, R_20Y,R_30Y ], axis=1) "
   ]
  },
  {
   "cell_type": "code",
   "execution_count": null,
   "id": "321ed521-922d-48df-b6ff-2e21a230754f",
   "metadata": {
    "scrolled": true
   },
   "outputs": [],
   "source": [
    "FRED_Rates"
   ]
  },
  {
   "cell_type": "code",
   "execution_count": null,
   "id": "ea5670d0-8574-41b4-8a1d-c69975144cc8",
   "metadata": {},
   "outputs": [],
   "source": [
    "FRED_Rates[list(FRED_Rates.columns)].plot()"
   ]
  },
  {
   "cell_type": "code",
   "execution_count": null,
   "id": "cd6164e1-9202-49f2-9a35-f2c8fda04170",
   "metadata": {},
   "outputs": [],
   "source": [
    "FRED_Rates['Date'] = FRED_Rates.index"
   ]
  },
  {
   "cell_type": "code",
   "execution_count": null,
   "id": "d017bbed-4191-4401-bbae-84494fc5af61",
   "metadata": {},
   "outputs": [],
   "source": [
    "FRED_Rates.tail(15)"
   ]
  },
  {
   "cell_type": "code",
   "execution_count": null,
   "id": "66bc09b1-7189-4af6-8675-46525cf552fb",
   "metadata": {},
   "outputs": [],
   "source": [
    "FRED_Rates.to_csv(\"/home/john/poetry-tensor/data/FREAD_rates.csv\")"
   ]
  },
  {
   "cell_type": "code",
   "execution_count": null,
   "id": "3c8af505-5085-4964-998e-50c32020fc33",
   "metadata": {},
   "outputs": [],
   "source": []
  }
 ],
 "metadata": {
  "kernelspec": {
   "display_name": "Python 3 (ipykernel)",
   "language": "python",
   "name": "python3"
  },
  "language_info": {
   "codemirror_mode": {
    "name": "ipython",
    "version": 3
   },
   "file_extension": ".py",
   "mimetype": "text/x-python",
   "name": "python",
   "nbconvert_exporter": "python",
   "pygments_lexer": "ipython3",
   "version": "3.10.12"
  }
 },
 "nbformat": 4,
 "nbformat_minor": 5
}
