{
 "cells": [
  {
   "cell_type": "code",
   "execution_count": 1,
   "id": "c70ffdb4-c8ab-4436-b326-fec2f9fb8977",
   "metadata": {},
   "outputs": [],
   "source": [
    "import pandas as pd\n",
    "import numpy as np\n",
    "from fredapi import Fred\n",
    "import matplotlib.pyplot as plt\n",
    "import seaborn as sns\n",
    "\n"
   ]
  },
  {
   "cell_type": "code",
   "execution_count": 2,
   "id": "335764d9-7a9b-4a68-a334-c349fb6d02ad",
   "metadata": {},
   "outputs": [],
   "source": [
    " ## Importing series\n",
    "## reformatting to a pandas df\n",
    "## Converting to a monthly average\n",
    "\n",
    "start = '1962-01-01'\n",
    "end = '2023-10-12'\n",
    "yield_curve = pd.DataFrame(fred.get_series(\n",
    "    'T10Y2Y',\n",
    "    observation_start=start,\n",
    "    observation_end=end))\n",
    "\n",
    "fed_funds_rate = pd.DataFrame(fred.get_series(\n",
    "    'FEDFUNDS',\n",
    "    observation_start=start,\n",
    "    observation_end=end))\n",
    "\n",
    "unemployment_rate = pd.DataFrame(fred.get_series(\n",
    "    'UNRATE',\n",
    "    observation_start=start,\n",
    "    observation_end=end))\n",
    "\n",
    "sp500 = pd.DataFrame(fred.get_series(\n",
    "    'SP500',\n",
    "    observation_start=start,\n",
    "    observation_end=end))\n",
    "# (\"DGS2\", \"DGS10\", \"DGS20\", \"DGS30\")\n",
    "Rates_2Y = pd.DataFrame(fred.get_series(\n",
    "    \"DGS2\",\n",
    "    observation_start=start,\n",
    "    observation_end=end))\n",
    "\n",
    "Rates_10Y= pd.DataFrame(fred.get_series(\n",
    "    \"DGS10\",\n",
    "    observation_start=start,\n",
    "    observation_end=end))\n",
    "\n",
    "Rates_20Y = pd.DataFrame(fred.get_series(\n",
    "    \"DGS20\",\n",
    "    observation_start=start,\n",
    "    observation_end=end))\n",
    "\n",
    "Rates_30Y = pd.DataFrame(fred.get_series(\n",
    "    \"DGS30\",\n",
    "    observation_start=start,\n",
    "    observation_end=end))"
   ]
  },
  {
   "cell_type": "code",
   "execution_count": 3,
   "id": "d0d13709-ab94-4977-b468-baff102c9832",
   "metadata": {},
   "outputs": [],
   "source": [
    "Rates_2Y.rename(columns = {0:'DGS2'}, inplace = True)\n",
    "Rates_10Y.rename(columns = {0:'DGS10'}, inplace = True)\n",
    "Rates_20Y.rename(columns = {0:'DGS20'}, inplace = True)\n",
    "Rates_30Y.rename(columns = {0:'DGS30'}, inplace = True)"
   ]
  },
  {
   "cell_type": "code",
   "execution_count": 4,
   "id": "47d0cabf-b761-4871-bfa6-ab8949e1114b",
   "metadata": {},
   "outputs": [],
   "source": [
    "import copy"
   ]
  },
  {
   "cell_type": "code",
   "execution_count": 5,
   "id": "4dd214cf-2188-4f6c-8b89-bba85c512cd6",
   "metadata": {},
   "outputs": [],
   "source": [
    "R_2Y = copy.deepcopy(Rates_2Y)\n",
    "R_10Y = copy.deepcopy(Rates_10Y)\n",
    "R_20Y = copy.deepcopy(Rates_20Y)\n",
    "R_30Y = copy.deepcopy(Rates_30Y)"
   ]
  },
  {
   "cell_type": "code",
   "execution_count": 6,
   "id": "8191e8f2-a430-477c-810d-e06ff1111981",
   "metadata": {},
   "outputs": [
    {
     "data": {
      "text/plain": [
       "((12356, 1), (11837, 1), 0)"
      ]
     },
     "execution_count": 6,
     "metadata": {},
     "output_type": "execute_result"
    }
   ],
   "source": [
    "R_2Y.shape, R_2Y.dropna(axis=0).shape, R_2Y.dropna(axis=0).isna().sum().sum()\n"
   ]
  },
  {
   "cell_type": "code",
   "execution_count": 7,
   "id": "153a1c66-0be2-45ac-b375-e940407782df",
   "metadata": {},
   "outputs": [],
   "source": [
    "R_2Y = R_2Y.dropna(axis=0)\n",
    "R_10Y = R_10Y.dropna(axis=0)\n",
    "R_20Y = R_20Y.dropna(axis=0)\n",
    "R_30Y = R_30Y.dropna(axis=0)"
   ]
  },
  {
   "cell_type": "code",
   "execution_count": 8,
   "id": "d8253491-d930-4cd9-958f-0c08e4ac5728",
   "metadata": {},
   "outputs": [
    {
     "data": {
      "text/plain": [
       "((11837, 1), (11837, 1), 0)"
      ]
     },
     "execution_count": 8,
     "metadata": {},
     "output_type": "execute_result"
    }
   ],
   "source": [
    "R_2Y.shape, R_2Y.dropna(axis=0).shape, R_2Y.dropna(axis=0).isna().sum().sum()\n"
   ]
  },
  {
   "cell_type": "code",
   "execution_count": 9,
   "id": "51178b3c-d9e9-4f69-ad61-1443d6a6e6dc",
   "metadata": {},
   "outputs": [
    {
     "data": {
      "text/html": [
       "<div>\n",
       "<style scoped>\n",
       "    .dataframe tbody tr th:only-of-type {\n",
       "        vertical-align: middle;\n",
       "    }\n",
       "\n",
       "    .dataframe tbody tr th {\n",
       "        vertical-align: top;\n",
       "    }\n",
       "\n",
       "    .dataframe thead th {\n",
       "        text-align: right;\n",
       "    }\n",
       "</style>\n",
       "<table border=\"1\" class=\"dataframe\">\n",
       "  <thead>\n",
       "    <tr style=\"text-align: right;\">\n",
       "      <th></th>\n",
       "      <th>DGS2</th>\n",
       "    </tr>\n",
       "  </thead>\n",
       "  <tbody>\n",
       "    <tr>\n",
       "      <th>1976-06-01</th>\n",
       "      <td>7.26</td>\n",
       "    </tr>\n",
       "    <tr>\n",
       "      <th>1976-06-02</th>\n",
       "      <td>7.23</td>\n",
       "    </tr>\n",
       "    <tr>\n",
       "      <th>1976-06-03</th>\n",
       "      <td>7.22</td>\n",
       "    </tr>\n",
       "    <tr>\n",
       "      <th>1976-06-04</th>\n",
       "      <td>7.12</td>\n",
       "    </tr>\n",
       "    <tr>\n",
       "      <th>1976-06-07</th>\n",
       "      <td>7.09</td>\n",
       "    </tr>\n",
       "    <tr>\n",
       "      <th>...</th>\n",
       "      <td>...</td>\n",
       "    </tr>\n",
       "    <tr>\n",
       "      <th>2023-10-03</th>\n",
       "      <td>5.15</td>\n",
       "    </tr>\n",
       "    <tr>\n",
       "      <th>2023-10-04</th>\n",
       "      <td>5.05</td>\n",
       "    </tr>\n",
       "    <tr>\n",
       "      <th>2023-10-05</th>\n",
       "      <td>5.03</td>\n",
       "    </tr>\n",
       "    <tr>\n",
       "      <th>2023-10-06</th>\n",
       "      <td>5.08</td>\n",
       "    </tr>\n",
       "    <tr>\n",
       "      <th>2023-10-10</th>\n",
       "      <td>4.96</td>\n",
       "    </tr>\n",
       "  </tbody>\n",
       "</table>\n",
       "<p>11837 rows × 1 columns</p>\n",
       "</div>"
      ],
      "text/plain": [
       "            DGS2\n",
       "1976-06-01  7.26\n",
       "1976-06-02  7.23\n",
       "1976-06-03  7.22\n",
       "1976-06-04  7.12\n",
       "1976-06-07  7.09\n",
       "...          ...\n",
       "2023-10-03  5.15\n",
       "2023-10-04  5.05\n",
       "2023-10-05  5.03\n",
       "2023-10-06  5.08\n",
       "2023-10-10  4.96\n",
       "\n",
       "[11837 rows x 1 columns]"
      ]
     },
     "execution_count": 9,
     "metadata": {},
     "output_type": "execute_result"
    }
   ],
   "source": [
    "R_2Y"
   ]
  },
  {
   "cell_type": "code",
   "execution_count": 10,
   "id": "c8d0d1f2-0ded-44aa-9a69-113b59d60017",
   "metadata": {},
   "outputs": [
    {
     "data": {
      "text/plain": [
       "(11837, 1)"
      ]
     },
     "execution_count": 10,
     "metadata": {},
     "output_type": "execute_result"
    }
   ],
   "source": [
    "Rates_2Y = Rates_2Y.dropna(axis=0)\n",
    "Rates_2Y.shape"
   ]
  },
  {
   "cell_type": "code",
   "execution_count": 11,
   "id": "1a4fb9a3-06d2-4c06-a8d1-2532f2a84a09",
   "metadata": {},
   "outputs": [
    {
     "data": {
      "text/html": [
       "<div>\n",
       "<style scoped>\n",
       "    .dataframe tbody tr th:only-of-type {\n",
       "        vertical-align: middle;\n",
       "    }\n",
       "\n",
       "    .dataframe tbody tr th {\n",
       "        vertical-align: top;\n",
       "    }\n",
       "\n",
       "    .dataframe thead th {\n",
       "        text-align: right;\n",
       "    }\n",
       "</style>\n",
       "<table border=\"1\" class=\"dataframe\">\n",
       "  <thead>\n",
       "    <tr style=\"text-align: right;\">\n",
       "      <th></th>\n",
       "      <th>DGS2</th>\n",
       "    </tr>\n",
       "  </thead>\n",
       "  <tbody>\n",
       "    <tr>\n",
       "      <th>1976-06-01</th>\n",
       "      <td>7.26</td>\n",
       "    </tr>\n",
       "    <tr>\n",
       "      <th>1976-06-02</th>\n",
       "      <td>7.23</td>\n",
       "    </tr>\n",
       "    <tr>\n",
       "      <th>1976-06-03</th>\n",
       "      <td>7.22</td>\n",
       "    </tr>\n",
       "    <tr>\n",
       "      <th>1976-06-04</th>\n",
       "      <td>7.12</td>\n",
       "    </tr>\n",
       "    <tr>\n",
       "      <th>1976-06-07</th>\n",
       "      <td>7.09</td>\n",
       "    </tr>\n",
       "    <tr>\n",
       "      <th>...</th>\n",
       "      <td>...</td>\n",
       "    </tr>\n",
       "    <tr>\n",
       "      <th>2023-10-03</th>\n",
       "      <td>5.15</td>\n",
       "    </tr>\n",
       "    <tr>\n",
       "      <th>2023-10-04</th>\n",
       "      <td>5.05</td>\n",
       "    </tr>\n",
       "    <tr>\n",
       "      <th>2023-10-05</th>\n",
       "      <td>5.03</td>\n",
       "    </tr>\n",
       "    <tr>\n",
       "      <th>2023-10-06</th>\n",
       "      <td>5.08</td>\n",
       "    </tr>\n",
       "    <tr>\n",
       "      <th>2023-10-10</th>\n",
       "      <td>4.96</td>\n",
       "    </tr>\n",
       "  </tbody>\n",
       "</table>\n",
       "<p>11837 rows × 1 columns</p>\n",
       "</div>"
      ],
      "text/plain": [
       "            DGS2\n",
       "1976-06-01  7.26\n",
       "1976-06-02  7.23\n",
       "1976-06-03  7.22\n",
       "1976-06-04  7.12\n",
       "1976-06-07  7.09\n",
       "...          ...\n",
       "2023-10-03  5.15\n",
       "2023-10-04  5.05\n",
       "2023-10-05  5.03\n",
       "2023-10-06  5.08\n",
       "2023-10-10  4.96\n",
       "\n",
       "[11837 rows x 1 columns]"
      ]
     },
     "execution_count": 11,
     "metadata": {},
     "output_type": "execute_result"
    }
   ],
   "source": [
    "R_2Y"
   ]
  },
  {
   "cell_type": "code",
   "execution_count": 12,
   "id": "ef977095-2e79-42a0-a068-2e35e81bc4c5",
   "metadata": {},
   "outputs": [],
   "source": [
    "FRED_Rates = pd.concat([R_2Y, R_10Y, R_20Y,R_30Y ], axis=1) "
   ]
  },
  {
   "cell_type": "code",
   "execution_count": 13,
   "id": "321ed521-922d-48df-b6ff-2e21a230754f",
   "metadata": {
    "scrolled": true
   },
   "outputs": [
    {
     "data": {
      "text/html": [
       "<div>\n",
       "<style scoped>\n",
       "    .dataframe tbody tr th:only-of-type {\n",
       "        vertical-align: middle;\n",
       "    }\n",
       "\n",
       "    .dataframe tbody tr th {\n",
       "        vertical-align: top;\n",
       "    }\n",
       "\n",
       "    .dataframe thead th {\n",
       "        text-align: right;\n",
       "    }\n",
       "</style>\n",
       "<table border=\"1\" class=\"dataframe\">\n",
       "  <thead>\n",
       "    <tr style=\"text-align: right;\">\n",
       "      <th></th>\n",
       "      <th>DGS2</th>\n",
       "      <th>DGS10</th>\n",
       "      <th>DGS20</th>\n",
       "      <th>DGS30</th>\n",
       "    </tr>\n",
       "  </thead>\n",
       "  <tbody>\n",
       "    <tr>\n",
       "      <th>1962-01-02</th>\n",
       "      <td>NaN</td>\n",
       "      <td>4.06</td>\n",
       "      <td>4.07</td>\n",
       "      <td>NaN</td>\n",
       "    </tr>\n",
       "    <tr>\n",
       "      <th>1962-01-03</th>\n",
       "      <td>NaN</td>\n",
       "      <td>4.03</td>\n",
       "      <td>4.07</td>\n",
       "      <td>NaN</td>\n",
       "    </tr>\n",
       "    <tr>\n",
       "      <th>1962-01-04</th>\n",
       "      <td>NaN</td>\n",
       "      <td>3.99</td>\n",
       "      <td>4.06</td>\n",
       "      <td>NaN</td>\n",
       "    </tr>\n",
       "    <tr>\n",
       "      <th>1962-01-05</th>\n",
       "      <td>NaN</td>\n",
       "      <td>4.02</td>\n",
       "      <td>4.07</td>\n",
       "      <td>NaN</td>\n",
       "    </tr>\n",
       "    <tr>\n",
       "      <th>1962-01-08</th>\n",
       "      <td>NaN</td>\n",
       "      <td>4.03</td>\n",
       "      <td>4.08</td>\n",
       "      <td>NaN</td>\n",
       "    </tr>\n",
       "    <tr>\n",
       "      <th>...</th>\n",
       "      <td>...</td>\n",
       "      <td>...</td>\n",
       "      <td>...</td>\n",
       "      <td>...</td>\n",
       "    </tr>\n",
       "    <tr>\n",
       "      <th>2023-10-03</th>\n",
       "      <td>5.15</td>\n",
       "      <td>4.81</td>\n",
       "      <td>5.13</td>\n",
       "      <td>4.95</td>\n",
       "    </tr>\n",
       "    <tr>\n",
       "      <th>2023-10-04</th>\n",
       "      <td>5.05</td>\n",
       "      <td>4.73</td>\n",
       "      <td>5.05</td>\n",
       "      <td>4.87</td>\n",
       "    </tr>\n",
       "    <tr>\n",
       "      <th>2023-10-05</th>\n",
       "      <td>5.03</td>\n",
       "      <td>4.72</td>\n",
       "      <td>5.06</td>\n",
       "      <td>4.89</td>\n",
       "    </tr>\n",
       "    <tr>\n",
       "      <th>2023-10-06</th>\n",
       "      <td>5.08</td>\n",
       "      <td>4.78</td>\n",
       "      <td>5.13</td>\n",
       "      <td>4.95</td>\n",
       "    </tr>\n",
       "    <tr>\n",
       "      <th>2023-10-10</th>\n",
       "      <td>4.96</td>\n",
       "      <td>4.66</td>\n",
       "      <td>5.03</td>\n",
       "      <td>4.85</td>\n",
       "    </tr>\n",
       "  </tbody>\n",
       "</table>\n",
       "<p>15429 rows × 4 columns</p>\n",
       "</div>"
      ],
      "text/plain": [
       "            DGS2  DGS10  DGS20  DGS30\n",
       "1962-01-02   NaN   4.06   4.07    NaN\n",
       "1962-01-03   NaN   4.03   4.07    NaN\n",
       "1962-01-04   NaN   3.99   4.06    NaN\n",
       "1962-01-05   NaN   4.02   4.07    NaN\n",
       "1962-01-08   NaN   4.03   4.08    NaN\n",
       "...          ...    ...    ...    ...\n",
       "2023-10-03  5.15   4.81   5.13   4.95\n",
       "2023-10-04  5.05   4.73   5.05   4.87\n",
       "2023-10-05  5.03   4.72   5.06   4.89\n",
       "2023-10-06  5.08   4.78   5.13   4.95\n",
       "2023-10-10  4.96   4.66   5.03   4.85\n",
       "\n",
       "[15429 rows x 4 columns]"
      ]
     },
     "execution_count": 13,
     "metadata": {},
     "output_type": "execute_result"
    }
   ],
   "source": [
    "FRED_Rates"
   ]
  },
  {
   "cell_type": "code",
   "execution_count": 14,
   "id": "ea5670d0-8574-41b4-8a1d-c69975144cc8",
   "metadata": {},
   "outputs": [
    {
     "data": {
      "text/plain": [
       "<Axes: >"
      ]
     },
     "execution_count": 14,
     "metadata": {},
     "output_type": "execute_result"
    },
    {
     "data": {
      "image/png": "[encoded data removed]",
      "text/plain": [
       "<Figure size 640x480 with 1 Axes>"
      ]
     },
     "metadata": {},
     "output_type": "display_data"
    }
   ],
   "source": [
    "FRED_Rates[list(FRED_Rates.columns)].plot()"
   ]
  },
  {
   "cell_type": "code",
   "execution_count": 15,
   "id": "cd6164e1-9202-49f2-9a35-f2c8fda04170",
   "metadata": {},
   "outputs": [],
   "source": [
    "FRED_Rates['Date'] = FRED_Rates.index"
   ]
  },
  {
   "cell_type": "code",
   "execution_count": 16,
   "id": "d017bbed-4191-4401-bbae-84494fc5af61",
   "metadata": {},
   "outputs": [
    {
     "data": {
      "text/html": [
       "<div>\n",
       "<style scoped>\n",
       "    .dataframe tbody tr th:only-of-type {\n",
       "        vertical-align: middle;\n",
       "    }\n",
       "\n",
       "    .dataframe tbody tr th {\n",
       "        vertical-align: top;\n",
       "    }\n",
       "\n",
       "    .dataframe thead th {\n",
       "        text-align: right;\n",
       "    }\n",
       "</style>\n",
       "<table border=\"1\" class=\"dataframe\">\n",
       "  <thead>\n",
       "    <tr style=\"text-align: right;\">\n",
       "      <th></th>\n",
       "      <th>DGS2</th>\n",
       "      <th>DGS10</th>\n",
       "      <th>DGS20</th>\n",
       "      <th>DGS30</th>\n",
       "      <th>Date</th>\n",
       "    </tr>\n",
       "  </thead>\n",
       "  <tbody>\n",
       "    <tr>\n",
       "      <th>2023-09-19</th>\n",
       "      <td>5.08</td>\n",
       "      <td>4.37</td>\n",
       "      <td>4.60</td>\n",
       "      <td>4.43</td>\n",
       "      <td>2023-09-19</td>\n",
       "    </tr>\n",
       "    <tr>\n",
       "      <th>2023-09-20</th>\n",
       "      <td>5.12</td>\n",
       "      <td>4.35</td>\n",
       "      <td>4.57</td>\n",
       "      <td>4.40</td>\n",
       "      <td>2023-09-20</td>\n",
       "    </tr>\n",
       "    <tr>\n",
       "      <th>2023-09-21</th>\n",
       "      <td>5.12</td>\n",
       "      <td>4.49</td>\n",
       "      <td>4.74</td>\n",
       "      <td>4.56</td>\n",
       "      <td>2023-09-21</td>\n",
       "    </tr>\n",
       "    <tr>\n",
       "      <th>2023-09-22</th>\n",
       "      <td>5.10</td>\n",
       "      <td>4.44</td>\n",
       "      <td>4.70</td>\n",
       "      <td>4.53</td>\n",
       "      <td>2023-09-22</td>\n",
       "    </tr>\n",
       "    <tr>\n",
       "      <th>2023-09-25</th>\n",
       "      <td>5.09</td>\n",
       "      <td>4.55</td>\n",
       "      <td>4.84</td>\n",
       "      <td>4.67</td>\n",
       "      <td>2023-09-25</td>\n",
       "    </tr>\n",
       "    <tr>\n",
       "      <th>2023-09-26</th>\n",
       "      <td>5.04</td>\n",
       "      <td>4.56</td>\n",
       "      <td>4.86</td>\n",
       "      <td>4.70</td>\n",
       "      <td>2023-09-26</td>\n",
       "    </tr>\n",
       "    <tr>\n",
       "      <th>2023-09-27</th>\n",
       "      <td>5.10</td>\n",
       "      <td>4.61</td>\n",
       "      <td>4.91</td>\n",
       "      <td>4.73</td>\n",
       "      <td>2023-09-27</td>\n",
       "    </tr>\n",
       "    <tr>\n",
       "      <th>2023-09-28</th>\n",
       "      <td>5.04</td>\n",
       "      <td>4.59</td>\n",
       "      <td>4.90</td>\n",
       "      <td>4.71</td>\n",
       "      <td>2023-09-28</td>\n",
       "    </tr>\n",
       "    <tr>\n",
       "      <th>2023-09-29</th>\n",
       "      <td>5.03</td>\n",
       "      <td>4.59</td>\n",
       "      <td>4.92</td>\n",
       "      <td>4.73</td>\n",
       "      <td>2023-09-29</td>\n",
       "    </tr>\n",
       "    <tr>\n",
       "      <th>2023-10-02</th>\n",
       "      <td>5.12</td>\n",
       "      <td>4.69</td>\n",
       "      <td>5.00</td>\n",
       "      <td>4.81</td>\n",
       "      <td>2023-10-02</td>\n",
       "    </tr>\n",
       "    <tr>\n",
       "      <th>2023-10-03</th>\n",
       "      <td>5.15</td>\n",
       "      <td>4.81</td>\n",
       "      <td>5.13</td>\n",
       "      <td>4.95</td>\n",
       "      <td>2023-10-03</td>\n",
       "    </tr>\n",
       "    <tr>\n",
       "      <th>2023-10-04</th>\n",
       "      <td>5.05</td>\n",
       "      <td>4.73</td>\n",
       "      <td>5.05</td>\n",
       "      <td>4.87</td>\n",
       "      <td>2023-10-04</td>\n",
       "    </tr>\n",
       "    <tr>\n",
       "      <th>2023-10-05</th>\n",
       "      <td>5.03</td>\n",
       "      <td>4.72</td>\n",
       "      <td>5.06</td>\n",
       "      <td>4.89</td>\n",
       "      <td>2023-10-05</td>\n",
       "    </tr>\n",
       "    <tr>\n",
       "      <th>2023-10-06</th>\n",
       "      <td>5.08</td>\n",
       "      <td>4.78</td>\n",
       "      <td>5.13</td>\n",
       "      <td>4.95</td>\n",
       "      <td>2023-10-06</td>\n",
       "    </tr>\n",
       "    <tr>\n",
       "      <th>2023-10-10</th>\n",
       "      <td>4.96</td>\n",
       "      <td>4.66</td>\n",
       "      <td>5.03</td>\n",
       "      <td>4.85</td>\n",
       "      <td>2023-10-10</td>\n",
       "    </tr>\n",
       "  </tbody>\n",
       "</table>\n",
       "</div>"
      ],
      "text/plain": [
       "            DGS2  DGS10  DGS20  DGS30       Date\n",
       "2023-09-19  5.08   4.37   4.60   4.43 2023-09-19\n",
       "2023-09-20  5.12   4.35   4.57   4.40 2023-09-20\n",
       "2023-09-21  5.12   4.49   4.74   4.56 2023-09-21\n",
       "2023-09-22  5.10   4.44   4.70   4.53 2023-09-22\n",
       "2023-09-25  5.09   4.55   4.84   4.67 2023-09-25\n",
       "2023-09-26  5.04   4.56   4.86   4.70 2023-09-26\n",
       "2023-09-27  5.10   4.61   4.91   4.73 2023-09-27\n",
       "2023-09-28  5.04   4.59   4.90   4.71 2023-09-28\n",
       "2023-09-29  5.03   4.59   4.92   4.73 2023-09-29\n",
       "2023-10-02  5.12   4.69   5.00   4.81 2023-10-02\n",
       "2023-10-03  5.15   4.81   5.13   4.95 2023-10-03\n",
       "2023-10-04  5.05   4.73   5.05   4.87 2023-10-04\n",
       "2023-10-05  5.03   4.72   5.06   4.89 2023-10-05\n",
       "2023-10-06  5.08   4.78   5.13   4.95 2023-10-06\n",
       "2023-10-10  4.96   4.66   5.03   4.85 2023-10-10"
      ]
     },
     "execution_count": 16,
     "metadata": {},
     "output_type": "execute_result"
    }
   ],
   "source": [
    "FRED_Rates.tail(15)"
   ]
  },
  {
   "cell_type": "code",
   "execution_count": 17,
   "id": "66bc09b1-7189-4af6-8675-46525cf552fb",
   "metadata": {},
   "outputs": [],
   "source": [
    "FRED_Rates.to_csv(\"data/FREAD_rates.csv\")"
   ]
  },
  {
   "cell_type": "code",
   "execution_count": null,
   "id": "3c8af505-5085-4964-998e-50c32020fc33",
   "metadata": {},
   "outputs": [],
   "source": []
  }
 ],
 "metadata": {
  "kernelspec": {
   "display_name": "Python 3 (ipykernel)",
   "language": "python",
   "name": "python3"
  },
  "language_info": {
   "codemirror_mode": {
    "name": "ipython",
    "version": 3
   },
   "file_extension": ".py",
   "mimetype": "text/x-python",
   "name": "python",
   "nbconvert_exporter": "python",
   "pygments_lexer": "ipython3",
   "version": "3.10.1"
  }
 },
 "nbformat": 4,
 "nbformat_minor": 5
}
